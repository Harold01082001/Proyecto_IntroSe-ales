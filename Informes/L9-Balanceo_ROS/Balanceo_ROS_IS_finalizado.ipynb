{
 "cells": [
  {
   "cell_type": "markdown",
   "metadata": {
    "colab_type": "text",
    "id": "view-in-github"
   },
   "source": [
    "<a href=\"https://colab.research.google.com/github/ulewis/FdD/blob/main/Balanceo%20ROS.ipynb\" target=\"_parent\"><img src=\"https://colab.research.google.com/assets/colab-badge.svg\" alt=\"Open In Colab\"/></a>"
   ]
  },
  {
   "cell_type": "code",
   "execution_count": 1,
   "metadata": {
    "id": "zEIElR2pCGGl",
    "tags": []
   },
   "outputs": [],
   "source": [
    "# Importamos librerias\n",
    "import numpy as np\n",
    "import pandas as pd\n",
    "import matplotlib.pyplot as plt\n",
    "import seaborn as sns\n",
    "import statsmodels.api as sm\n",
    "from sklearn.preprocessing import PolynomialFeatures"
   ]
  },
  {
   "cell_type": "code",
   "execution_count": 2,
   "metadata": {
    "id": "mVnDxADwCrbz",
    "tags": []
   },
   "outputs": [],
   "source": [
    "# Extraemos datos\n",
    "data='para volumen 4ta vuelta.csv'"
   ]
  },
  {
   "cell_type": "code",
   "execution_count": 3,
   "metadata": {
    "colab": {
     "base_uri": "https://localhost:8080/",
     "height": 206
    },
    "id": "BOYcE2yICugj",
    "outputId": "127633bd-2c7e-4747-802b-44125e3b1047",
    "tags": []
   },
   "outputs": [
    {
     "data": {
      "text/html": [
       "<div>\n",
       "<style scoped>\n",
       "    .dataframe tbody tr th:only-of-type {\n",
       "        vertical-align: middle;\n",
       "    }\n",
       "\n",
       "    .dataframe tbody tr th {\n",
       "        vertical-align: top;\n",
       "    }\n",
       "\n",
       "    .dataframe thead th {\n",
       "        text-align: right;\n",
       "    }\n",
       "</style>\n",
       "<table border=\"1\" class=\"dataframe\">\n",
       "  <thead>\n",
       "    <tr style=\"text-align: right;\">\n",
       "      <th></th>\n",
       "      <th>C</th>\n",
       "      <th>Rp</th>\n",
       "      <th>Dif_vol</th>\n",
       "      <th>V_in</th>\n",
       "      <th>V_out</th>\n",
       "      <th>P_ventilador</th>\n",
       "      <th>PIP</th>\n",
       "      <th>Error_aceptable</th>\n",
       "    </tr>\n",
       "  </thead>\n",
       "  <tbody>\n",
       "    <tr>\n",
       "      <th>0</th>\n",
       "      <td>20</td>\n",
       "      <td>20</td>\n",
       "      <td>-2.7</td>\n",
       "      <td>350</td>\n",
       "      <td>352.7</td>\n",
       "      <td>27.6</td>\n",
       "      <td>25.5</td>\n",
       "      <td>1</td>\n",
       "    </tr>\n",
       "    <tr>\n",
       "      <th>1</th>\n",
       "      <td>20</td>\n",
       "      <td>20</td>\n",
       "      <td>-4.7</td>\n",
       "      <td>350</td>\n",
       "      <td>354.7</td>\n",
       "      <td>30.3</td>\n",
       "      <td>30.2</td>\n",
       "      <td>1</td>\n",
       "    </tr>\n",
       "    <tr>\n",
       "      <th>2</th>\n",
       "      <td>20</td>\n",
       "      <td>20</td>\n",
       "      <td>1.2</td>\n",
       "      <td>350</td>\n",
       "      <td>348.8</td>\n",
       "      <td>32.0</td>\n",
       "      <td>33.0</td>\n",
       "      <td>1</td>\n",
       "    </tr>\n",
       "    <tr>\n",
       "      <th>3</th>\n",
       "      <td>20</td>\n",
       "      <td>20</td>\n",
       "      <td>3.1</td>\n",
       "      <td>400</td>\n",
       "      <td>396.9</td>\n",
       "      <td>30.3</td>\n",
       "      <td>29.4</td>\n",
       "      <td>1</td>\n",
       "    </tr>\n",
       "    <tr>\n",
       "      <th>4</th>\n",
       "      <td>20</td>\n",
       "      <td>20</td>\n",
       "      <td>-7.0</td>\n",
       "      <td>400</td>\n",
       "      <td>407.0</td>\n",
       "      <td>33.9</td>\n",
       "      <td>34.3</td>\n",
       "      <td>1</td>\n",
       "    </tr>\n",
       "  </tbody>\n",
       "</table>\n",
       "</div>"
      ],
      "text/plain": [
       "    C  Rp  Dif_vol  V_in  V_out  P_ventilador   PIP  Error_aceptable\n",
       "0  20  20     -2.7   350  352.7          27.6  25.5                1\n",
       "1  20  20     -4.7   350  354.7          30.3  30.2                1\n",
       "2  20  20      1.2   350  348.8          32.0  33.0                1\n",
       "3  20  20      3.1   400  396.9          30.3  29.4                1\n",
       "4  20  20     -7.0   400  407.0          33.9  34.3                1"
      ]
     },
     "execution_count": 3,
     "metadata": {},
     "output_type": "execute_result"
    }
   ],
   "source": [
    "#visualizamos el dataset\n",
    "df= pd.read_csv(data)\n",
    "df.head()"
   ]
  },
  {
   "cell_type": "code",
   "execution_count": 4,
   "metadata": {
    "colab": {
     "base_uri": "https://localhost:8080/"
    },
    "id": "Xh_0dbGSHFLe",
    "outputId": "415e1fcd-c7ae-4e66-eda2-d66ade688157",
    "tags": []
   },
   "outputs": [
    {
     "data": {
      "text/plain": [
       "(69, 8)"
      ]
     },
     "execution_count": 4,
     "metadata": {},
     "output_type": "execute_result"
    }
   ],
   "source": [
    "#Revisamos dimension de la data\n",
    "df.shape"
   ]
  },
  {
   "cell_type": "code",
   "execution_count": 5,
   "metadata": {
    "id": "LTR4WDw4DBRG",
    "tags": []
   },
   "outputs": [],
   "source": [
    "#filtramos decartando columnas con datos faltantes\n",
    "d_filtrado = df.dropna().copy() "
   ]
  },
  {
   "cell_type": "code",
   "execution_count": 6,
   "metadata": {
    "colab": {
     "base_uri": "https://localhost:8080/"
    },
    "id": "rNTXQtVeEU7L",
    "outputId": "76223433-f7aa-4c2f-e6e5-2bc75750078c",
    "tags": []
   },
   "outputs": [
    {
     "data": {
      "text/plain": [
       "array([352.7, 354.7, 348.8, 396.9, 407. , 401.6, 442.2, 455.5, 451.2,\n",
       "       482.2, 492. , 494.5, 541.7, 549.6, 558.5, 597.3, 599. , 612.5,\n",
       "       327.8, 307.5, 303.2, 375. , 360.8, 358.6, 419.6, 408.8, 407.5,\n",
       "       455.2, 457.3, 461.5, 518.2, 515.8, 524.4, 574. , 571.6, 296.8,\n",
       "       281.3, 277.5, 335.2, 332.8, 330.7, 382. , 377. , 383. , 436.4,\n",
       "       429.6, 436.5, 498.1, 496.1, 499.6, 552. , 548.8, 269. , 302.6,\n",
       "       302.7, 303. , 344.1, 344.2, 389.1, 396.6, 386.5, 435.7, 452.7,\n",
       "       487.9, 509.7, 527. , 544.5, 559.9])"
      ]
     },
     "execution_count": 6,
     "metadata": {},
     "output_type": "execute_result"
    }
   ],
   "source": [
    "#Verificamos cuantos valores tenemos de Rp\n",
    "d_filtrado.V_out.unique()"
   ]
  },
  {
   "cell_type": "code",
   "execution_count": 7,
   "metadata": {
    "colab": {
     "base_uri": "https://localhost:8080/"
    },
    "id": "sbUiObJ-G-It",
    "outputId": "bdd18bdb-11e7-4b35-c726-c03af7d92c99",
    "tags": []
   },
   "outputs": [
    {
     "data": {
      "text/plain": [
       "(69, 8)"
      ]
     },
     "execution_count": 7,
     "metadata": {},
     "output_type": "execute_result"
    }
   ],
   "source": [
    "#revisamos de la data filtrada\n",
    "d_filtrado.shape"
   ]
  },
  {
   "cell_type": "code",
   "execution_count": 8,
   "metadata": {
    "colab": {
     "base_uri": "https://localhost:8080/"
    },
    "id": "Lmkg-dxmErki",
    "outputId": "49447a55-b8ed-445f-fa94-f0646a3ddeb9",
    "tags": []
   },
   "outputs": [
    {
     "data": {
      "text/plain": [
       "1    53\n",
       "0    16\n",
       "Name: Error_aceptable, dtype: int64"
      ]
     },
     "execution_count": 8,
     "metadata": {},
     "output_type": "execute_result"
    }
   ],
   "source": [
    "#contar valores\n",
    "d_filtrado['Error_aceptable'].value_counts()"
   ]
  },
  {
   "cell_type": "code",
   "execution_count": 9,
   "metadata": {
    "colab": {
     "base_uri": "https://localhost:8080/"
    },
    "id": "C5IKNZaBGQgp",
    "outputId": "c59671ff-8293-4149-bbb0-c48574d476a2",
    "tags": []
   },
   "outputs": [
    {
     "data": {
      "text/plain": [
       "1    0.768116\n",
       "0    0.231884\n",
       "Name: Error_aceptable, dtype: float64"
      ]
     },
     "execution_count": 9,
     "metadata": {},
     "output_type": "execute_result"
    }
   ],
   "source": [
    "#revisamos proporción\n",
    "d_filtrado['Error_aceptable'].value_counts()/len(d_filtrado)"
   ]
  },
  {
   "cell_type": "code",
   "execution_count": 10,
   "metadata": {
    "colab": {
     "base_uri": "https://localhost:8080/",
     "height": 546
    },
    "id": "Yk15ok2eGrTv",
    "outputId": "b9833cbf-5407-446d-a606-27c1f87dd94e",
    "tags": []
   },
   "outputs": [
    {
     "data": {
      "text/plain": [
       "<seaborn.axisgrid.FacetGrid at 0x2d75bd4e488>"
      ]
     },
     "execution_count": 10,
     "metadata": {},
     "output_type": "execute_result"
    },
    {
     "data": {
      "image/png": "[encoded data removed]",
      "text/plain": [
       "<Figure size 500x500 with 1 Axes>"
      ]
     },
     "metadata": {},
     "output_type": "display_data"
    }
   ],
   "source": [
    "#observamos el desbalance de datos\n",
    "p=sns.catplot(data = d_filtrado, kind ='count', x= 'Error_aceptable')\n",
    "p.set(title = \"clases\")"
   ]
  },
  {
   "cell_type": "code",
   "execution_count": 181,
   "metadata": {
    "tags": []
   },
   "outputs": [],
   "source": [
    "array1=[\"C\",\"Rp\",\"V_in\",\"V_out\",\"P_ventilador\",\"PIP\"]"
   ]
  },
  {
   "cell_type": "code",
   "execution_count": 208,
   "metadata": {
    "id": "z4KMzhikIbS0",
    "tags": []
   },
   "outputs": [
    {
     "name": "stdout",
     "output_type": "stream",
     "text": [
      "Información para: C Rp\n",
      "16\n",
      "53\n",
      "Para: C and Rp : 51 18\n",
      "11\n",
      "40\n",
      "    C  Rp  Dif_vol  V_in  V_out  P_ventilador   PIP  Error_aceptable\n",
      "0  20  20     -2.7   350  352.7          27.6  25.5                1\n",
      "1  20  20     -4.7   350  354.7          30.3  30.2                1\n",
      "2  20  20      1.2   350  348.8          32.0  33.0                1\n",
      "3  20  20      3.1   400  396.9          30.3  29.4                1\n",
      "4  20  20     -7.0   400  407.0          33.9  34.3                1\n",
      "Warning: Maximum number of iterations has been exceeded.\n",
      "         Current function value: 0.307893\n",
      "         Iterations: 35\n",
      "Coeficientes:\n",
      "const    15.935235\n",
      "x1        0.279323\n",
      "x2      -14.313729\n",
      "dtype: float64\n",
      "\n",
      "P-valores:\n",
      "const    0.999935\n",
      "x1       0.511376\n",
      "x2       0.999936\n",
      "dtype: float64\n",
      "----------------------------------------------------------------------------\n",
      "Información para: C V_in\n",
      "16\n",
      "53\n",
      "Para: C and V_in : 51 18\n",
      "11\n",
      "40\n",
      "    C  Rp  Dif_vol  V_in  V_out  P_ventilador   PIP  Error_aceptable\n",
      "0  20  20     -2.7   350  352.7          27.6  25.5                1\n",
      "1  20  20     -4.7   350  354.7          30.3  30.2                1\n",
      "2  20  20      1.2   350  348.8          32.0  33.0                1\n",
      "3  20  20      3.1   400  396.9          30.3  29.4                1\n",
      "4  20  20     -7.0   400  407.0          33.9  34.3                1\n",
      "Optimization terminated successfully.\n",
      "         Current function value: 0.454934\n",
      "         Iterations 6\n",
      "Coeficientes:\n",
      "const    1.562378\n",
      "x1       0.383457\n",
      "x2       0.895535\n",
      "dtype: float64\n",
      "\n",
      "P-valores:\n",
      "const    0.000241\n",
      "x1       0.299591\n",
      "x2       0.038362\n",
      "dtype: float64\n",
      "----------------------------------------------------------------------------\n",
      "Información para: C V_out\n",
      "16\n",
      "53\n",
      "Para: C and V_out : 51 18\n",
      "11\n",
      "40\n",
      "    C  Rp  Dif_vol  V_in  V_out  P_ventilador   PIP  Error_aceptable\n",
      "0  20  20     -2.7   350  352.7          27.6  25.5                1\n",
      "1  20  20     -4.7   350  354.7          30.3  30.2                1\n",
      "2  20  20      1.2   350  348.8          32.0  33.0                1\n",
      "3  20  20      3.1   400  396.9          30.3  29.4                1\n",
      "4  20  20     -7.0   400  407.0          33.9  34.3                1\n",
      "Optimization terminated successfully.\n",
      "         Current function value: 0.348609\n",
      "         Iterations 8\n",
      "Coeficientes:\n",
      "const    2.347218\n",
      "x1       0.224840\n",
      "x2       2.148016\n",
      "dtype: float64\n",
      "\n",
      "P-valores:\n",
      "const    0.000974\n",
      "x1       0.592621\n",
      "x2       0.003911\n",
      "dtype: float64\n",
      "----------------------------------------------------------------------------\n",
      "Información para: C P_ventilador\n",
      "16\n",
      "53\n",
      "Para: C and P_ventilador : 51 18\n",
      "11\n",
      "40\n",
      "    C  Rp  Dif_vol  V_in  V_out  P_ventilador   PIP  Error_aceptable\n",
      "0  20  20     -2.7   350  352.7          27.6  25.5                1\n",
      "1  20  20     -4.7   350  354.7          30.3  30.2                1\n",
      "2  20  20      1.2   350  348.8          32.0  33.0                1\n",
      "3  20  20      3.1   400  396.9          30.3  29.4                1\n",
      "4  20  20     -7.0   400  407.0          33.9  34.3                1\n",
      "Optimization terminated successfully.\n",
      "         Current function value: 0.437141\n",
      "         Iterations 7\n",
      "Coeficientes:\n",
      "const    1.660735\n",
      "x1       0.935012\n",
      "x2       1.268547\n",
      "dtype: float64\n",
      "\n",
      "P-valores:\n",
      "const    0.000299\n",
      "x1       0.031866\n",
      "x2       0.028220\n",
      "dtype: float64\n",
      "Se encontro un par de características que mantiene la significancia : C and  P_ventilador\n",
      "x1: 0.03186577316180028\n",
      "x2: 0.028219776299055175\n",
      "const: 0.000299102956490483\n",
      "----------------------------------------------------------------------------\n",
      "Información para: C PIP\n",
      "16\n",
      "53\n",
      "Para: C and PIP : 51 18\n",
      "11\n",
      "40\n",
      "    C  Rp  Dif_vol  V_in  V_out  P_ventilador   PIP  Error_aceptable\n",
      "0  20  20     -2.7   350  352.7          27.6  25.5                1\n",
      "1  20  20     -4.7   350  354.7          30.3  30.2                1\n",
      "2  20  20      1.2   350  348.8          32.0  33.0                1\n",
      "3  20  20      3.1   400  396.9          30.3  29.4                1\n",
      "4  20  20     -7.0   400  407.0          33.9  34.3                1\n",
      "Optimization terminated successfully.\n",
      "         Current function value: 0.372761\n",
      "         Iterations 7\n",
      "Coeficientes:\n",
      "const    1.996099\n",
      "x1       1.793980\n",
      "x2       2.204054\n",
      "dtype: float64\n",
      "\n",
      "P-valores:\n",
      "const    0.000503\n",
      "x1       0.004847\n",
      "x2       0.005551\n",
      "dtype: float64\n",
      "Se encontro un par de características que mantiene la significancia : C and  PIP\n",
      "x1: 0.004846541949695287\n",
      "x2: 0.005551293980605926\n",
      "const: 0.0005026763830520704\n",
      "----------------------------------------------------------------------------\n"
     ]
    },
    {
     "name": "stderr",
     "output_type": "stream",
     "text": [
      "c:\\users\\harold\\appdata\\local\\programs\\python\\python37\\lib\\site-packages\\statsmodels\\base\\model.py:606: ConvergenceWarning: Maximum Likelihood optimization failed to converge. Check mle_retvals\n",
      "  ConvergenceWarning)\n"
     ]
    }
   ],
   "source": [
    "#divimos la data en conjunto de entranimiento y test\n",
    "p_valuex1=0; p_valuex2=0;constant=0\n",
    "from sklearn.model_selection import train_test_split\n",
    "from sklearn.preprocessing import StandardScaler\n",
    "from sklearn.linear_model import LogisticRegression\n",
    "# definimos la matriz de caracteristicas\n",
    "for i in range (len(array1)-1):\n",
    "    x = d_filtrado.loc[:,[array1[0],array1[i+1]]]\n",
    "    y = d_filtrado['Error_aceptable']\n",
    "    print(\"Información para:\",array1[0],array1[i+1])\n",
    "    print(len(y[y==0]))\n",
    "    print(len(y[y==1]))\n",
    "    x_train, x_test, y_train, y_test = train_test_split(x,y, test_size = 0.25, random_state = 0)\n",
    "    print(\"Para:\",array1[0],\"and\",array1[i+1],\":\",len(x_train),len(x_test))\n",
    "    print(len(y_train[y_train==0]))\n",
    "    print(len(y_train[y_train==1]))\n",
    "    # Estandarización de características\n",
    "    sc_x = StandardScaler()\n",
    "    x_train = sc_x.fit_transform(x_train)\n",
    "    x_test = sc_x.transform(x_test)\n",
    "    print(df.head())\n",
    "    # Regresión logística\n",
    "    regLog = LogisticRegression(random_state = 0)\n",
    "    regLog.fit(x_train,y_train)\n",
    "    # Se anñade una columna constante para el término de intercepción\n",
    "    x_train_with_const = sm.add_constant(x_train)\n",
    "\n",
    "    # Crear un modelo logístico con statsmodels\n",
    "    logit_model = sm.Logit(y_train, x_train_with_const)\n",
    "\n",
    "    # Ajustar el modelo\n",
    "    result = logit_model.fit()\n",
    "\n",
    "    # Obtener los coeficientes y los p-valores\n",
    "    coefficients = result.params\n",
    "    p_values = result.pvalues\n",
    "\n",
    "    print(\"Coeficientes:\")\n",
    "    print(coefficients)\n",
    "    print(\"\\nP-valores:\")\n",
    "    print(p_values)\n",
    "    \n",
    "    #Guardar los valores de p-values los cuales sean menores a 0.05 (Cruce de umbral)\n",
    "    p_valuex1=p_values[1]\n",
    "    p_valuex2=p_values[2]\n",
    "    constant=p_values[0]\n",
    "    if p_valuex1<=0.05 and p_valuex2<=0.05 and constant<=0.05:\n",
    "        p_valuex1=p_values[1]\n",
    "        p_valuex2=p_values[2]\n",
    "        constant=p_values[0]\n",
    "        char1_success=array1[0]\n",
    "        char2_success=array1[i+1]\n",
    "        print(\"Se encontro un par de características que mantiene la significancia :\",char1_success,\"and \",char2_success)\n",
    "        print(\"x1:\",p_valuex1)\n",
    "        print(\"x2:\",p_valuex2)\n",
    "        print(\"const:\",constant)\n",
    "        \n",
    "    print(\"----------------------------------------------------------------------------\")"
   ]
  },
  {
   "cell_type": "code",
   "execution_count": 209,
   "metadata": {
    "tags": []
   },
   "outputs": [],
   "source": [
    "#Como se observa en la iteración se ve que los unicos dos pares característicos de las combinaciones dadas que cumple con la significancia son:\n",
    "# C ---- P_ventilador\n",
    "# C ---- PIP (Tomaremos solamente C and PIP)"
   ]
  },
  {
   "cell_type": "code",
   "execution_count": 210,
   "metadata": {
    "colab": {
     "base_uri": "https://localhost:8080/"
    },
    "id": "Cco9V8ABMI4O",
    "outputId": "b1b2f00f-5454-44a0-c74d-81fb3ac19c01",
    "tags": []
   },
   "outputs": [
    {
     "data": {
      "text/plain": [
       "0.7222"
      ]
     },
     "execution_count": 210,
     "metadata": {},
     "output_type": "execute_result"
    }
   ],
   "source": [
    "score = regLog.score(x_test, y_test,)\n",
    "round(score,4)"
   ]
  },
  {
   "cell_type": "code",
   "execution_count": 218,
   "metadata": {
    "id": "e4xBNBH0MWb7",
    "tags": []
   },
   "outputs": [],
   "source": [
    "y_pred = regLog.predict(x_test)"
   ]
  },
  {
   "cell_type": "code",
   "execution_count": null,
   "metadata": {
    "tags": []
   },
   "outputs": [],
   "source": []
  },
  {
   "cell_type": "code",
   "execution_count": 219,
   "metadata": {
    "colab": {
     "base_uri": "https://localhost:8080/"
    },
    "id": "4s7Oz8TRMnMB",
    "outputId": "47585de6-9a95-4117-f6e0-5835f67d3596",
    "tags": []
   },
   "outputs": [
    {
     "name": "stdout",
     "output_type": "stream",
     "text": [
      "              precision    recall  f1-score   support\n",
      "\n",
      "           0       1.00      0.00      0.00         5\n",
      "           1       0.72      1.00      0.84        13\n",
      "\n",
      "    accuracy                           0.72        18\n",
      "   macro avg       0.86      0.50      0.42        18\n",
      "weighted avg       0.80      0.72      0.61        18\n",
      "\n"
     ]
    }
   ],
   "source": [
    "from sklearn.metrics import classification_report, confusion_matrix\n",
    "print(classification_report(y_test, y_pred,zero_division=1))"
   ]
  },
  {
   "cell_type": "code",
   "execution_count": 220,
   "metadata": {
    "colab": {
     "base_uri": "https://localhost:8080/"
    },
    "id": "SBUdo89uNGfQ",
    "outputId": "9babc9f5-5f46-4f0b-d9fb-5e4f71601d8f",
    "tags": []
   },
   "outputs": [
    {
     "name": "stdout",
     "output_type": "stream",
     "text": [
      "[[ 0  5]\n",
      " [ 0 13]]\n"
     ]
    }
   ],
   "source": [
    "cm = confusion_matrix(y_test, y_pred)\n",
    "print(cm)"
   ]
  },
  {
   "cell_type": "code",
   "execution_count": 221,
   "metadata": {
    "colab": {
     "base_uri": "https://localhost:8080/",
     "height": 143
    },
    "id": "MJqR8Px2PxeW",
    "outputId": "b3358119-754e-4ae3-e5fa-d5b266e51abd",
    "tags": []
   },
   "outputs": [
    {
     "data": {
      "text/html": [
       "<div>\n",
       "<style scoped>\n",
       "    .dataframe tbody tr th:only-of-type {\n",
       "        vertical-align: middle;\n",
       "    }\n",
       "\n",
       "    .dataframe tbody tr th {\n",
       "        vertical-align: top;\n",
       "    }\n",
       "\n",
       "    .dataframe thead th {\n",
       "        text-align: right;\n",
       "    }\n",
       "</style>\n",
       "<table border=\"1\" class=\"dataframe\">\n",
       "  <thead>\n",
       "    <tr style=\"text-align: right;\">\n",
       "      <th>col_0</th>\n",
       "      <th>1</th>\n",
       "    </tr>\n",
       "    <tr>\n",
       "      <th>Error_aceptable</th>\n",
       "      <th></th>\n",
       "    </tr>\n",
       "  </thead>\n",
       "  <tbody>\n",
       "    <tr>\n",
       "      <th>0</th>\n",
       "      <td>5</td>\n",
       "    </tr>\n",
       "    <tr>\n",
       "      <th>1</th>\n",
       "      <td>13</td>\n",
       "    </tr>\n",
       "  </tbody>\n",
       "</table>\n",
       "</div>"
      ],
      "text/plain": [
       "col_0             1\n",
       "Error_aceptable    \n",
       "0                 5\n",
       "1                13"
      ]
     },
     "execution_count": 221,
     "metadata": {},
     "output_type": "execute_result"
    }
   ],
   "source": [
    "pd.crosstab(y_test,y_pred)"
   ]
  },
  {
   "cell_type": "code",
   "execution_count": 222,
   "metadata": {
    "colab": {
     "base_uri": "https://localhost:8080/"
    },
    "id": "3upstAhZP_99",
    "outputId": "201aea5e-5693-42b3-96e0-1116cb334e17",
    "tags": []
   },
   "outputs": [
    {
     "data": {
      "text/plain": [
       "0.8066666666666666"
      ]
     },
     "execution_count": 222,
     "metadata": {},
     "output_type": "execute_result"
    }
   ],
   "source": [
    "# K-fold cross validation\n",
    "from sklearn.model_selection import cross_val_score\n",
    "accuracies = cross_val_score(estimator = regLog, X = x_train, y=y_train, cv= 10)\n",
    "accuracies.mean()"
   ]
  },
  {
   "cell_type": "code",
   "execution_count": 223,
   "metadata": {
    "colab": {
     "base_uri": "https://localhost:8080/"
    },
    "id": "NYTPwoYrRSlj",
    "outputId": "3c62d8a5-caed-4b26-98b1-cebfeaac3cb6",
    "tags": []
   },
   "outputs": [
    {
     "data": {
      "text/plain": [
       "array([0.66666667, 0.8       , 0.8       , 1.        , 0.6       ,\n",
       "       0.8       , 0.8       , 0.8       , 1.        , 0.8       ])"
      ]
     },
     "execution_count": 223,
     "metadata": {},
     "output_type": "execute_result"
    }
   ],
   "source": [
    "accuracies"
   ]
  },
  {
   "cell_type": "code",
   "execution_count": 226,
   "metadata": {
    "colab": {
     "base_uri": "https://localhost:8080/",
     "height": 527
    },
    "id": "XYV3__FZRfRv",
    "outputId": "ca045489-c916-45f0-f3dc-b0fb61a1fdf8",
    "tags": []
   },
   "outputs": [
    {
     "name": "stderr",
     "output_type": "stream",
     "text": [
      "*c* argument looks like a single numeric RGB or RGBA sequence, which should be avoided as value-mapping will have precedence in case its length matches with *x* & *y*.  Please use the *color* keyword-argument or provide a 2D array with a single row if you intend to specify the same RGB or RGBA value for all points.\n",
      "*c* argument looks like a single numeric RGB or RGBA sequence, which should be avoided as value-mapping will have precedence in case its length matches with *x* & *y*.  Please use the *color* keyword-argument or provide a 2D array with a single row if you intend to specify the same RGB or RGBA value for all points.\n"
     ]
    },
    {
     "data": {
      "image/png": "[encoded data removed]",
      "text/plain": [
       "<Figure size 640x480 with 1 Axes>"
      ]
     },
     "metadata": {},
     "output_type": "display_data"
    }
   ],
   "source": [
    "# Creamos un plot para ver la frontera de clasificación\n",
    "\n",
    "from matplotlib.colors import ListedColormap\n",
    "x_set, y_set = x_test, y_test\n",
    "X1,X2 = np.meshgrid(np.arange(start = x_set[:,0].min()-1,stop = x_set[:,0].max()+1,step=0.01),\n",
    "                    np.arange(start = x_set[:,1].min()-1,stop = x_set[:,0].max()+1,step=0.01))\n",
    "plt.contourf(X1,X2, regLog.predict(np.array([X1.ravel(),X2.ravel()]).T).reshape(X1.shape),\n",
    "             alpha=0.75, cmap = ListedColormap(('magenta', 'cyan')))\n",
    "plt.xlim(X1.min(), X1.max())\n",
    "plt.ylim(X2.min(), X2.max())\n",
    "for i,j in enumerate(np.unique(y_set)):\n",
    "    plt.scatter(x_set[y_set == j,0],x_set[y_set== j,1],\n",
    "                c = ListedColormap(('red','blue'))(i),label = j)\n",
    "    \n",
    "plt.title('Clasificador')\n",
    "plt.xlabel(char1_success)\n",
    "plt.ylabel(char2_success)\n",
    "plt.legend()\n",
    "plt.show()\n",
    "\n"
   ]
  },
  {
   "cell_type": "markdown",
   "metadata": {
    "id": "wPPdkD3ObAik"
   },
   "source": [
    "**Balanceo ROS**"
   ]
  },
  {
   "cell_type": "code",
   "execution_count": 227,
   "metadata": {
    "colab": {
     "base_uri": "https://localhost:8080/"
    },
    "id": "RdSF84gza7DM",
    "outputId": "5b07c575-00a8-4ff0-c898-84bcd4944da0",
    "tags": []
   },
   "outputs": [
    {
     "data": {
      "text/plain": [
       "51"
      ]
     },
     "execution_count": 227,
     "metadata": {},
     "output_type": "execute_result"
    }
   ],
   "source": [
    "len(x_train)"
   ]
  },
  {
   "cell_type": "code",
   "execution_count": 249,
   "metadata": {
    "id": "6AcmgRBpbIuB",
    "tags": []
   },
   "outputs": [],
   "source": [
    "train = np.concatenate([x_train, y_train.values.reshape(-1,1)], axis=1)"
   ]
  },
  {
   "cell_type": "code",
   "execution_count": 250,
   "metadata": {
    "id": "FSezxm0dcP00",
    "tags": []
   },
   "outputs": [],
   "source": [
    "#transformamos a un dataFrame\n",
    "train = pd.DataFrame(train,columns=[char1_success,char2_success,'Error_aceptable'])"
   ]
  },
  {
   "cell_type": "code",
   "execution_count": 251,
   "metadata": {
    "colab": {
     "base_uri": "https://localhost:8080/",
     "height": 206
    },
    "id": "QDMRy1cjdFkS",
    "outputId": "e5050265-b706-4363-831f-b459013f0e39",
    "tags": []
   },
   "outputs": [
    {
     "data": {
      "text/html": [
       "<div>\n",
       "<style scoped>\n",
       "    .dataframe tbody tr th:only-of-type {\n",
       "        vertical-align: middle;\n",
       "    }\n",
       "\n",
       "    .dataframe tbody tr th {\n",
       "        vertical-align: top;\n",
       "    }\n",
       "\n",
       "    .dataframe thead th {\n",
       "        text-align: right;\n",
       "    }\n",
       "</style>\n",
       "<table border=\"1\" class=\"dataframe\">\n",
       "  <thead>\n",
       "    <tr style=\"text-align: right;\">\n",
       "      <th></th>\n",
       "      <th>C</th>\n",
       "      <th>PIP</th>\n",
       "      <th>Error_aceptable</th>\n",
       "    </tr>\n",
       "  </thead>\n",
       "  <tbody>\n",
       "    <tr>\n",
       "      <th>10</th>\n",
       "      <td>-1.060660</td>\n",
       "      <td>0.439871</td>\n",
       "      <td>0.0</td>\n",
       "    </tr>\n",
       "    <tr>\n",
       "      <th>12</th>\n",
       "      <td>-1.060660</td>\n",
       "      <td>1.027543</td>\n",
       "      <td>0.0</td>\n",
       "    </tr>\n",
       "    <tr>\n",
       "      <th>13</th>\n",
       "      <td>0.942809</td>\n",
       "      <td>-1.064570</td>\n",
       "      <td>0.0</td>\n",
       "    </tr>\n",
       "    <tr>\n",
       "      <th>16</th>\n",
       "      <td>0.942809</td>\n",
       "      <td>-1.691421</td>\n",
       "      <td>0.0</td>\n",
       "    </tr>\n",
       "    <tr>\n",
       "      <th>20</th>\n",
       "      <td>-1.060660</td>\n",
       "      <td>-0.845173</td>\n",
       "      <td>0.0</td>\n",
       "    </tr>\n",
       "  </tbody>\n",
       "</table>\n",
       "</div>"
      ],
      "text/plain": [
       "           C       PIP  Error_aceptable\n",
       "10 -1.060660  0.439871              0.0\n",
       "12 -1.060660  1.027543              0.0\n",
       "13  0.942809 -1.064570              0.0\n",
       "16  0.942809 -1.691421              0.0\n",
       "20 -1.060660 -0.845173              0.0"
      ]
     },
     "execution_count": 251,
     "metadata": {},
     "output_type": "execute_result"
    }
   ],
   "source": [
    "#obtenemos la clase con error que no se acepta\n",
    "train_class_0 = train.query(\"Error_aceptable == 0\")\n",
    "train_class_0.head()"
   ]
  },
  {
   "cell_type": "code",
   "execution_count": 252,
   "metadata": {
    "colab": {
     "base_uri": "https://localhost:8080/"
    },
    "id": "d-fEIC9od-hF",
    "outputId": "dfad5bf1-6bc4-43f9-cb84-04cfa92ee98d",
    "tags": []
   },
   "outputs": [
    {
     "data": {
      "text/plain": [
       "(11, 3)"
      ]
     },
     "execution_count": 252,
     "metadata": {},
     "output_type": "execute_result"
    }
   ],
   "source": [
    "train_class_0.shape"
   ]
  },
  {
   "cell_type": "code",
   "execution_count": 253,
   "metadata": {
    "colab": {
     "base_uri": "https://localhost:8080/"
    },
    "id": "dT5-Ihr9eYPH",
    "outputId": "120367f7-41ae-468e-c5f6-7bfc49827ce2",
    "tags": []
   },
   "outputs": [
    {
     "name": "stdout",
     "output_type": "stream",
     "text": [
      "11 40\n"
     ]
    }
   ],
   "source": [
    "n_class0 = len(train.query(\"Error_aceptable == 0\"))\n",
    "n_class1 = len(train.query(\"Error_aceptable == 1\"))\n",
    "print ( n_class0, n_class1)"
   ]
  },
  {
   "cell_type": "code",
   "execution_count": 254,
   "metadata": {
    "colab": {
     "base_uri": "https://localhost:8080/"
    },
    "id": "_O8rbXHteooC",
    "outputId": "1eba7c9f-3195-4c64-a0f6-dc86f58c0bc7",
    "tags": []
   },
   "outputs": [
    {
     "data": {
      "text/plain": [
       "40"
      ]
     },
     "execution_count": 254,
     "metadata": {},
     "output_type": "execute_result"
    }
   ],
   "source": [
    "i_class0_downsampled = train_class_0.sample(n_class1,replace = True)\n",
    "len(i_class0_downsampled)"
   ]
  },
  {
   "cell_type": "code",
   "execution_count": 255,
   "metadata": {
    "colab": {
     "base_uri": "https://localhost:8080/"
    },
    "id": "GNx57b8Cf8XJ",
    "outputId": "a4a5aa71-b108-409c-c1b5-ae176fa7aa00",
    "tags": []
   },
   "outputs": [
    {
     "data": {
      "text/plain": [
       "Error_aceptable\n",
       "0.0                40\n",
       "1.0                40\n",
       "dtype: int64"
      ]
     },
     "execution_count": 255,
     "metadata": {},
     "output_type": "execute_result"
    }
   ],
   "source": [
    "new_train = pd.concat([train.query(\"Error_aceptable == 1\"), i_class0_downsampled], axis=0)\n",
    "new_train[['Error_aceptable']].value_counts()"
   ]
  },
  {
   "cell_type": "code",
   "execution_count": 263,
   "metadata": {
    "id": "goZRoMnwp4B8",
    "tags": []
   },
   "outputs": [],
   "source": [
    "new_x_train =new_train.loc[:,['C','PIP']].values\n",
    "new_y_train =new_train.loc[:,['Error_aceptable']].values\n"
   ]
  },
  {
   "cell_type": "code",
   "execution_count": 264,
   "metadata": {
    "id": "aqxq7WRBqaj0",
    "tags": []
   },
   "outputs": [],
   "source": [
    "new_y_train = pd.Series(new_y_train.reshape(-1,))"
   ]
  },
  {
   "cell_type": "code",
   "execution_count": 265,
   "metadata": {
    "colab": {
     "base_uri": "https://localhost:8080/"
    },
    "id": "hQe-MasIqqGP",
    "outputId": "0cf4f21d-e477-4359-8476-7986d3b65eec",
    "tags": []
   },
   "outputs": [
    {
     "data": {
      "text/plain": [
       "Error_aceptable\n",
       "0.0                40\n",
       "1.0                40\n",
       "dtype: int64"
      ]
     },
     "execution_count": 265,
     "metadata": {},
     "output_type": "execute_result"
    }
   ],
   "source": [
    "new_train.loc[:,['Error_aceptable']].value_counts()"
   ]
  },
  {
   "cell_type": "markdown",
   "metadata": {
    "id": "8KdI3JtXpj0P"
   },
   "source": [
    "Nuevo modelo con nueva data"
   ]
  },
  {
   "cell_type": "code",
   "execution_count": 266,
   "metadata": {
    "colab": {
     "base_uri": "https://localhost:8080/",
     "height": 75
    },
    "id": "8fYNkdHkpeNY",
    "outputId": "3321188f-764f-44c5-a2fe-79007aa4f490",
    "tags": []
   },
   "outputs": [
    {
     "data": {
      "text/plain": [
       "LogisticRegression()"
      ]
     },
     "execution_count": 266,
     "metadata": {},
     "output_type": "execute_result"
    }
   ],
   "source": [
    "model= LogisticRegression()\n",
    "model. fit(new_x_train, new_y_train)"
   ]
  },
  {
   "cell_type": "code",
   "execution_count": 267,
   "metadata": {
    "id": "fwCSwDAzq1Ip",
    "tags": []
   },
   "outputs": [],
   "source": [
    "y_pred2 = model.predict(x_test)"
   ]
  },
  {
   "cell_type": "code",
   "execution_count": 268,
   "metadata": {
    "colab": {
     "base_uri": "https://localhost:8080/"
    },
    "id": "zjBCrpm_pljf",
    "outputId": "f2e05cfb-f568-4034-b61c-fe6829027c6d",
    "tags": []
   },
   "outputs": [
    {
     "name": "stdout",
     "output_type": "stream",
     "text": [
      "              precision    recall  f1-score   support\n",
      "\n",
      "           0       1.00      0.00      0.00         5\n",
      "           1       0.72      1.00      0.84        13\n",
      "\n",
      "    accuracy                           0.72        18\n",
      "   macro avg       0.86      0.50      0.42        18\n",
      "weighted avg       0.80      0.72      0.61        18\n",
      "\n",
      "              precision    recall  f1-score   support\n",
      "\n",
      "           0       0.67      0.40      0.50         5\n",
      "           1       0.80      0.92      0.86        13\n",
      "\n",
      "    accuracy                           0.78        18\n",
      "   macro avg       0.73      0.66      0.68        18\n",
      "weighted avg       0.76      0.78      0.76        18\n",
      "\n"
     ]
    }
   ],
   "source": [
    "print(classification_report(y_test, y_pred,zero_division=1))\n",
    "print(classification_report(y_test, y_pred2,zero_division=1))"
   ]
  }
 ],
 "metadata": {
  "colab": {
   "authorship_tag": "ABX9TyOpwuEeVBTka7/7CR+PChxS",
   "include_colab_link": true,
   "mount_file_id": "1Ois6E1CzVD4UXPvzslhtVlU-gq_eI7uo",
   "provenance": []
  },
  "kernelspec": {
   "display_name": "Python 3 (ipykernel)",
   "language": "python",
   "name": "python3"
  },
  "language_info": {
   "codemirror_mode": {
    "name": "ipython",
    "version": 3
   },
   "file_extension": ".py",
   "mimetype": "text/x-python",
   "name": "python",
   "nbconvert_exporter": "python",
   "pygments_lexer": "ipython3",
   "version": "3.7.7"
  }
 },
 "nbformat": 4,
 "nbformat_minor": 4
}
