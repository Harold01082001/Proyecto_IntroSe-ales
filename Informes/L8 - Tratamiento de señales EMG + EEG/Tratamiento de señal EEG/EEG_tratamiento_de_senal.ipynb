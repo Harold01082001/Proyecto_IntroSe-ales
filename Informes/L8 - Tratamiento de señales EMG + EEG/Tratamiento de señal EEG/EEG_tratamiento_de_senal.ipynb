{
 "cells": [
  {
   "cell_type": "markdown",
   "id": "6c175902-f1f8-4a7a-a364-e720ba397edb",
   "metadata": {
    "tags": []
   },
   "source": [
    "# **Filtrado de señal**"
   ]
  },
  {
   "cell_type": "code",
   "execution_count": null,
   "id": "419be8d7-6ecc-42e2-ad16-7a1530dfb995",
   "metadata": {},
   "outputs": [],
   "source": [
    "# **Filtrado de señal**\n",
    "#Ventana de tiempo\n",
    "t_start= 0\n",
    "sample_start=t_start*sampling_rate\n",
    "\n",
    "t_end=30\n",
    "sample_end=t_end*sampling_rate"
   ]
  },
  {
   "cell_type": "code",
   "execution_count": null,
   "id": "181ee967-fae6-4b27-95a3-c294f59178b0",
   "metadata": {},
   "outputs": [],
   "source": [
    "#Frecuencia de corte\n",
    "low_cutoff_wide=3 #Lower cutoff frequency for bandpass filter (Hz)\n",
    "high_cuttoff_wide=30 #Upper cutoff frequency for bandpass filter (Hz)\n"
   ]
  },
  {
   "cell_type": "code",
   "execution_count": null,
   "id": "cd4262c0-c5c7-4e2a-b704-7acd15031612",
   "metadata": {},
   "outputs": [],
   "source": [
    "filtered_signla_3_30=bsnb.bandpass(signal_shift_window,low_cutoff_wide,high_cutoff_wide, order=2, fs=sr)\n"
   ]
  },
  {
   "cell_type": "markdown",
   "id": "5bad020c-d7da-4232-82bc-87b50b978cf4",
   "metadata": {},
   "source": [
    "# **Detección de ERP**"
   ]
  },
  {
   "cell_type": "code",
   "execution_count": null,
   "id": "4cf22ef1-89df-4de5-92b3-145605426484",
   "metadata": {},
   "outputs": [],
   "source": [
    "signal=data[\"CH1\"]\n",
    "time=bsnb.generate_time(signal,header[\"samplig rate\"])"
   ]
  },
  {
   "cell_type": "code",
   "execution_count": null,
   "id": "d97432f9-d7f3-48b0-a5be-2fd4a093a294",
   "metadata": {},
   "outputs": [],
   "source": [
    "#Nueva Bakeh figure\n",
    "bakeh_figure=figure(x_axis_label=\"Time(s)\", y_axis_label=\"Raw Data\")"
   ]
  },
  {
   "cell_type": "code",
   "execution_count": null,
   "id": "e4b70b08-88ae-40f7-8b46-3f7de1e77e36",
   "metadata": {},
   "outputs": [],
   "source": [
    "bakeh_figure.line(time,signal,legend_label=\"Datos Originales\")"
   ]
  },
  {
   "cell_type": "code",
   "execution_count": null,
   "id": "60b96415-5cf3-4be3-aa0d-69464d0fc387",
   "metadata": {},
   "outputs": [],
   "source": [
    "show(bakeh_figure)"
   ]
  },
  {
   "cell_type": "code",
   "execution_count": 2,
   "id": "4aa7375a-fc14-4831-9f81-dab58633720b",
   "metadata": {
    "tags": []
   },
   "outputs": [
    {
     "ename": "NameError",
     "evalue": "name 'data' is not defined",
     "output_type": "error",
     "traceback": [
      "\u001b[1;31m---------------------------------------------------------------------------\u001b[0m",
      "\u001b[1;31mNameError\u001b[0m                                 Traceback (most recent call last)",
      "\u001b[1;32m~\\AppData\\Local\\Temp\\ipykernel_32964\\157618916.py\u001b[0m in \u001b[0;36m<module>\u001b[1;34m\u001b[0m\n\u001b[1;32m----> 1\u001b[1;33m \u001b[0msignal_acoustic\u001b[0m\u001b[1;33m=\u001b[0m\u001b[0mdata\u001b[0m\u001b[1;33m[\u001b[0m\u001b[0mch1\u001b[0m\u001b[1;33m]\u001b[0m\u001b[1;33m\u001b[0m\u001b[1;33m\u001b[0m\u001b[0m\n\u001b[0m\u001b[0;32m      2\u001b[0m \u001b[0msignal_eeg\u001b[0m\u001b[1;33m=\u001b[0m\u001b[0mdata\u001b[0m\u001b[1;33m[\u001b[0m\u001b[0mch5\u001b[0m\u001b[1;33m]\u001b[0m\u001b[1;33m\u001b[0m\u001b[1;33m\u001b[0m\u001b[0m\n",
      "\u001b[1;31mNameError\u001b[0m: name 'data' is not defined"
     ]
    }
   ],
   "source": [
    "signal_acoustic=data[ch1]\n",
    "signal_eeg=data[ch5]"
   ]
  },
  {
   "cell_type": "code",
   "execution_count": null,
   "id": "0fd2c5d2-112d-48e1-9a46-bf8cd865b9bb",
   "metadata": {},
   "outputs": [],
   "source": [
    "signal_uv=bsnb.raw_to_phy(\"EEG\", device, signal_eeg, resolution, option=\"uV\") #Conversión a uV\n",
    "#Estímulo\n",
    "signal_ac= signal_acoustic - mean(signal_acoustic)\n",
    "\n",
    "#Generando los ejes de tiempo:\n",
    "time_eeg= bsnb.generate_time(signal_uv)\n",
    "time_a= bsnb.generate_time(signal_acoustic)\n",
    "\n",
    "time_a_down= time_a[::10]\n",
    "signal_ac_down=signal_ac[::10]\n",
    "\n",
    "#Estimulo sonoro:\n",
    "bsnb.plot([time_a_down],[signal_ac_down], y_axis_label=\"Value RAW\", legend=\"Acoustic Simuli RAW\", x_range(0,310))"
   ]
  },
  {
   "cell_type": "markdown",
   "id": "1e3cb5d7-ebd8-4a68-884a-be4ef191b5b6",
   "metadata": {},
   "source": [
    "# **Extracción de la banda Alfa**"
   ]
  },
  {
   "cell_type": "code",
   "execution_count": null,
   "id": "7a5ddb89-3ce9-4123-915a-8f8293d1d577",
   "metadata": {},
   "outputs": [],
   "source": [
    "#Conversion de unidades\n",
    "signal_uv= bsnb.raw_to_pyh(\"EEG\", \"biosignalsplux\", eeg_data, resolution, \"uV\")\n",
    "time_uv=bsnb.generate_time(signal_uv, sr)"
   ]
  },
  {
   "cell_type": "code",
   "execution_count": null,
   "id": "3a220696-26d9-4ce4-98ce-11d6b7304c0a",
   "metadata": {},
   "outputs": [],
   "source": [
    "#Frecuencia de corte\n",
    "f1=3\n",
    "f2=30\n",
    "\n",
    "#Baseline shift of window\n",
    "signal_shift_window_eyes_closed= array(signal_uv[sample_closed_start:sample_closed_end])-\n",
    "                                mean(array(signal_uv[sample_closed_start:sample_closed_end]))"
   ]
  },
  {
   "cell_type": "code",
   "execution_count": null,
   "id": "af4fce13-91fa-4cd8-b1d9-cea10a0ec544",
   "metadata": {},
   "outputs": [],
   "source": [
    "#Definición de los límites de la banda de frecuencia:\n",
    "freq_low= 8 # lower limit for alpha band\n",
    "freq_high= 12 #Upper limit for alpha band"
   ]
  },
  {
   "cell_type": "code",
   "execution_count": null,
   "id": "248641c8-30a0-47b4-a0c7-7155b4c2a32f",
   "metadata": {},
   "outputs": [],
   "source": [
    "freq_res_opened_eyes=freq_axis_eyes_open[1] - freq_axis_eyes_opened[0]\n",
    "\n",
    "#Compute the Absolute Power with numpy trapz:\n",
    "alpha_power_opened_eyes= trapz(power_spect_eyes_opened[idx_alpha_eyes_opened], dx=freq_res_opened_eyes)"
   ]
  },
  {
   "cell_type": "markdown",
   "id": "0b185705-2c7d-4335-8f2c-8f4e151b38a1",
   "metadata": {},
   "source": [
    "# **Diferencia entre señales**"
   ]
  },
  {
   "cell_type": "code",
   "execution_count": 3,
   "id": "25b7da37-0262-4b41-912a-e5e485a3ca7e",
   "metadata": {
    "tags": []
   },
   "outputs": [
    {
     "ename": "NameError",
     "evalue": "name 'mean' is not defined",
     "output_type": "error",
     "traceback": [
      "\u001b[1;31m---------------------------------------------------------------------------\u001b[0m",
      "\u001b[1;31mNameError\u001b[0m                                 Traceback (most recent call last)",
      "\u001b[1;32m~\\AppData\\Local\\Temp\\ipykernel_32964\\1943046054.py\u001b[0m in \u001b[0;36m<module>\u001b[1;34m\u001b[0m\n\u001b[0;32m      1\u001b[0m \u001b[1;31m#Defining the functions applied to each time window in order to extract features\u001b[0m\u001b[1;33m\u001b[0m\u001b[1;33m\u001b[0m\u001b[1;33m\u001b[0m\u001b[0m\n\u001b[1;32m----> 2\u001b[1;33m \u001b[0mfunc\u001b[0m\u001b[1;33m=\u001b[0m \u001b[1;33m[\u001b[0m\u001b[0mmean\u001b[0m\u001b[1;33m,\u001b[0m \u001b[0mstd\u001b[0m\u001b[1;33m,\u001b[0m \u001b[0mkurtosis\u001b[0m\u001b[1;33m,\u001b[0m \u001b[0mskew\u001b[0m\u001b[1;33m,\u001b[0m \u001b[0mbsnb\u001b[0m\u001b[1;33m.\u001b[0m\u001b[0mzero_crossing_rate\u001b[0m\u001b[1;33m]\u001b[0m\u001b[1;33m\u001b[0m\u001b[1;33m\u001b[0m\u001b[0m\n\u001b[0m\u001b[0;32m      3\u001b[0m \u001b[1;33m\u001b[0m\u001b[0m\n\u001b[0;32m      4\u001b[0m \u001b[0mECG_features\u001b[0m\u001b[1;33m=\u001b[0m \u001b[0mbsnb\u001b[0m\u001b[1;33m.\u001b[0m\u001b[0mfeatures_extraction\u001b[0m\u001b[1;33m(\u001b[0m\u001b[0mECG_windows\u001b[0m\u001b[1;33m,\u001b[0m \u001b[0mfunc\u001b[0m\u001b[1;33m)\u001b[0m\u001b[1;33m\u001b[0m\u001b[1;33m\u001b[0m\u001b[0m\n\u001b[0;32m      5\u001b[0m \u001b[0mEMG_features\u001b[0m\u001b[1;33m=\u001b[0m \u001b[0mbsnb\u001b[0m\u001b[1;33m.\u001b[0m\u001b[0mfeatures_extraction\u001b[0m\u001b[1;33m(\u001b[0m\u001b[0mEMG_windows\u001b[0m\u001b[1;33m,\u001b[0m \u001b[0mfunc\u001b[0m\u001b[1;33m)\u001b[0m\u001b[1;33m\u001b[0m\u001b[1;33m\u001b[0m\u001b[0m\n",
      "\u001b[1;31mNameError\u001b[0m: name 'mean' is not defined"
     ]
    }
   ],
   "source": [
    "#Defining the functions applied to each time window in order to extract features\n",
    "func= [mean, std, kurtosis, skew, bsnb.zero_crossing_rate]\n",
    "\n",
    "ECG_features= bsnb.features_extraction(ECG_windows, func)\n",
    "EMG_features= bsnb.features_extraction(EMG_windows, func)\n",
    "EEG_features= bsnb.features_extraction(EEG_windows, func)\n",
    "ACO_features= bsnb.features_extraction(ACO_windows, func)"
   ]
  },
  {
   "cell_type": "code",
   "execution_count": null,
   "id": "ff0a0a26-39ec-48f9-9862-f29bea0e9a4e",
   "metadata": {},
   "outputs": [],
   "source": [
    "length_ECG=ECG_features.shape[0]\n",
    "length_EMG= EMG_features.shape[0]\n",
    "length_EEG= EEG_features.shape[0]\n",
    "length_ACO=ACO_features.shape[0]\n",
    "\n",
    "smnaples=cstack([ECG_features, EMG_features, EEG_features, ACO_features])\n",
    "\n",
    "classes= concatenate([length_ECG[\"ECG\"], length_EMG[\"EMG\"], length_EEG[\"Other\"], length_ACO[\"Other\"]])\n"
   ]
  },
  {
   "cell_type": "code",
   "execution_count": null,
   "id": "78589392-7cfc-4d67-8b36-e459738befcc",
   "metadata": {},
   "outputs": [],
   "source": [
    "acc=[]\n",
    "for train_index, test_index in model.split(samples):\n",
    "    \n",
    "    #For each iteratition, we divide our dataset in train and test set.\n",
    "    samples_train, samples_test= samples[train_indez], samples[test,index]\n",
    "    labels_train, labels_test=classes[train_index], clases[tast_index]\n",
    "    \n",
    "    #Build the random forest clasdsifier\n",
    "    random_forest=RandomForestClassifier(n_estimators=1000, criterion=\"gini\")\n",
    "    \n",
    "    #Train the classifier on the training set\n",
    "    random_forest= random_forest.fit(samples_train, revel(label_train))\n",
    "    \n",
    "    #Train the classifier on the testing set\n",
    "    results= random_forest.predict(samples_test)\n",
    "    \n",
    "    #This step is not necessary for the classification procedure, but is important to store the values\n",
    "    #Of accuracy to calculate the mean and standard deviation values and evaluate the performance of the classifier.\n",
    "    acc.append(accuracy_score(labels_test, results)*100)"
   ]
  }
 ],
 "metadata": {
  "kernelspec": {
   "display_name": "Python 3 (ipykernel)",
   "language": "python",
   "name": "python3"
  },
  "language_info": {
   "codemirror_mode": {
    "name": "ipython",
    "version": 3
   },
   "file_extension": ".py",
   "mimetype": "text/x-python",
   "name": "python",
   "nbconvert_exporter": "python",
   "pygments_lexer": "ipython3",
   "version": "3.7.7"
  }
 },
 "nbformat": 4,
 "nbformat_minor": 5
}
